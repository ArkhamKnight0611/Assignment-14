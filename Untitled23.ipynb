{
  "nbformat": 4,
  "nbformat_minor": 0,
  "metadata": {
    "colab": {
      "provenance": []
    },
    "kernelspec": {
      "name": "python3",
      "display_name": "Python 3"
    },
    "language_info": {
      "name": "python"
    }
  },
  "cells": [
    {
      "cell_type": "code",
      "execution_count": 1,
      "metadata": {
        "id": "OOq4d9lNsBu7"
      },
      "outputs": [],
      "source": [
        "# In GET method we can not send large amount of data rather limited data is sent because the request parameter is appended into the URL.\n",
        "# In POST method large amount of data can be sent because the request parameter is appended into the body."
      ]
    },
    {
      "cell_type": "code",
      "source": [
        "# The Request, in Flask, is an object that contains all the data sent from the Client to Server.\n",
        "# This data can be recovered using the GET/POST Methods."
      ],
      "metadata": {
        "id": "ItGILU4Us-yb"
      },
      "execution_count": 2,
      "outputs": []
    },
    {
      "cell_type": "code",
      "source": [
        "# Flask redirect is defined as a function or utility in Flask which allows developers to redirect users to a specified URL and assign a specified status code.\n",
        "# When this function is called, a response object is returned, and the redirection happens to the target location with the status code."
      ],
      "metadata": {
        "id": "uODDh-VgtJmX"
      },
      "execution_count": 3,
      "outputs": []
    },
    {
      "cell_type": "code",
      "source": [
        "# Templates are files that contain static data as well as placeholders for dynamic data.\n",
        "# A template is rendered with specific data to produce a final document. Flask uses the Jinja template library to render templates.\n",
        "# In your application, you will use templates to render HTML which will display in the user's browser."
      ],
      "metadata": {
        "id": "quVnSUvavKoL"
      },
      "execution_count": 4,
      "outputs": []
    },
    {
      "cell_type": "code",
      "source": [
        "from flask import Flask, jsonify, request\n",
        "\n",
        "app = Flask(__name__)\n",
        "\n",
        "@app.route('/', methods=['GET', 'POST'])\n",
        "def home():\n",
        "    if request.method == 'GET':\n",
        "        data = \"hello world\"\n",
        "        return jsonify({'data': data})\n",
        "\n",
        "@app.route('/square', methods=['GET', 'POST'])\n",
        "def square():\n",
        "    if request.method == 'POST':\n",
        "        data = request.json\n",
        "        number = data['number']\n",
        "        result = number ** 2\n",
        "        return jsonify({'result': result})\n",
        "\n",
        "if __name__ == '__main__':\n",
        "    app.run(host=\"0.0.0.0\")"
      ],
      "metadata": {
        "colab": {
          "base_uri": "https://localhost:8080/"
        },
        "id": "DYJEGABmx9IK",
        "outputId": "7f5dfe33-c882-4ea4-ba58-4fbb3ce02c89"
      },
      "execution_count": 5,
      "outputs": [
        {
          "output_type": "stream",
          "name": "stdout",
          "text": [
            " * Serving Flask app '__main__'\n",
            " * Debug mode: off\n"
          ]
        },
        {
          "output_type": "stream",
          "name": "stderr",
          "text": [
            "INFO:werkzeug:\u001b[31m\u001b[1mWARNING: This is a development server. Do not use it in a production deployment. Use a production WSGI server instead.\u001b[0m\n",
            " * Running on all addresses (0.0.0.0)\n",
            " * Running on http://127.0.0.1:5000\n",
            " * Running on http://172.28.0.12:5000\n",
            "INFO:werkzeug:\u001b[33mPress CTRL+C to quit\u001b[0m\n"
          ]
        }
      ]
    },
    {
      "cell_type": "code",
      "source": [],
      "metadata": {
        "id": "rlPHvPzKIRD0"
      },
      "execution_count": null,
      "outputs": []
    }
  ]
}